{
  "nbformat": 4,
  "nbformat_minor": 0,
  "metadata": {
    "colab": {
      "provenance": []
    },
    "kernelspec": {
      "name": "python3",
      "display_name": "Python 3"
    },
    "language_info": {
      "name": "python"
    }
  },
  "cells": [
    {
      "cell_type": "code",
      "execution_count": null,
      "metadata": {
        "id": "CET0840YfLaP"
      },
      "outputs": [],
      "source": []
    },
    {
      "cell_type": "markdown",
      "source": [
        "Tarea 02\n",
        "Problema 1.\n",
        "Hacer un programa que imprima los números del 1 al 100.\n",
        "\n",
        "\n"
      ],
      "metadata": {
        "id": "Gqw6bAnBfM7j"
      }
    },
    {
      "cell_type": "code",
      "source": [
        "def contar(n):\n",
        "  for i in range(n+1):\n",
        "    print(i)\n",
        "\n",
        "print(contar(100))"
      ],
      "metadata": {
        "colab": {
          "base_uri": "https://localhost:8080/"
        },
        "id": "gORAor2YfVzW",
        "outputId": "3955ae6c-cb13-4772-c5b6-def99bc24655"
      },
      "execution_count": null,
      "outputs": [
        {
          "output_type": "stream",
          "name": "stdout",
          "text": [
            "0\n",
            "1\n",
            "2\n",
            "3\n",
            "4\n",
            "5\n",
            "6\n",
            "7\n",
            "8\n",
            "9\n",
            "10\n",
            "11\n",
            "12\n",
            "13\n",
            "14\n",
            "15\n",
            "16\n",
            "17\n",
            "18\n",
            "19\n",
            "20\n",
            "21\n",
            "22\n",
            "23\n",
            "24\n",
            "25\n",
            "26\n",
            "27\n",
            "28\n",
            "29\n",
            "30\n",
            "31\n",
            "32\n",
            "33\n",
            "34\n",
            "35\n",
            "36\n",
            "37\n",
            "38\n",
            "39\n",
            "40\n",
            "41\n",
            "42\n",
            "43\n",
            "44\n",
            "45\n",
            "46\n",
            "47\n",
            "48\n",
            "49\n",
            "50\n",
            "51\n",
            "52\n",
            "53\n",
            "54\n",
            "55\n",
            "56\n",
            "57\n",
            "58\n",
            "59\n",
            "60\n",
            "61\n",
            "62\n",
            "63\n",
            "64\n",
            "65\n",
            "66\n",
            "67\n",
            "68\n",
            "69\n",
            "70\n",
            "71\n",
            "72\n",
            "73\n",
            "74\n",
            "75\n",
            "76\n",
            "77\n",
            "78\n",
            "79\n",
            "80\n",
            "81\n",
            "82\n",
            "83\n",
            "84\n",
            "85\n",
            "86\n",
            "87\n",
            "88\n",
            "89\n",
            "90\n",
            "91\n",
            "92\n",
            "93\n",
            "94\n",
            "95\n",
            "96\n",
            "97\n",
            "98\n",
            "99\n",
            "100\n",
            "None\n"
          ]
        }
      ]
    },
    {
      "cell_type": "markdown",
      "source": [
        "Problema 2.\n",
        "Hacer un programa que imprima los números del 1 al 100 que sean divisibles entre 3 (con resto 0)"
      ],
      "metadata": {
        "id": "JdSO02olfWT2"
      }
    },
    {
      "cell_type": "code",
      "source": [
        " def contar(n):\n",
        "  for i in range(n+1):\n",
        "    if i%3==0:\n",
        "      print(i)\n",
        "\n",
        "print(contar(100))"
      ],
      "metadata": {
        "colab": {
          "base_uri": "https://localhost:8080/"
        },
        "id": "eiaTLDOafctn",
        "outputId": "ecd21681-99fc-425b-f9ce-181178bf7e7f"
      },
      "execution_count": null,
      "outputs": [
        {
          "output_type": "stream",
          "name": "stdout",
          "text": [
            "0\n",
            "3\n",
            "6\n",
            "9\n",
            "12\n",
            "15\n",
            "18\n",
            "21\n",
            "24\n",
            "27\n",
            "30\n",
            "33\n",
            "36\n",
            "39\n",
            "42\n",
            "45\n",
            "48\n",
            "51\n",
            "54\n",
            "57\n",
            "60\n",
            "63\n",
            "66\n",
            "69\n",
            "72\n",
            "75\n",
            "78\n",
            "81\n",
            "84\n",
            "87\n",
            "90\n",
            "93\n",
            "96\n",
            "99\n",
            "None\n"
          ]
        }
      ]
    },
    {
      "cell_type": "markdown",
      "source": [
        "Problema 03.\n",
        "Realiza el algoritmo para un sumador de dos números. Si el resultado es menor a 100 se mostrará el mensaje \"menor a 100\", si el resultado es mayor a 100, pero menor a 150 mostrará el mensaje \"mayor a 100\", pero si es mayor a 150 mostrará el mensaje \"mayor a 150\".\n",
        "\n"
      ],
      "metadata": {
        "id": "AFuE8ghifmS9"
      }
    },
    {
      "cell_type": "code",
      "source": [
        "def sumador(x,y):\n",
        "  if (x+y)<100:\n",
        "    print(\"menor a 100\")\n",
        "  else:\n",
        "    if 100 <= (x+y) < 150:\n",
        "      print(\"menor a 150\")\n",
        "    else:\n",
        "      print(\"mayor a 150\")\n",
        "\n",
        "x=int(input(\"inserte numero \"))\n",
        "y=int(input(\"inserte numero \"))\n",
        "print(sumador(x,y))"
      ],
      "metadata": {
        "colab": {
          "base_uri": "https://localhost:8080/"
        },
        "id": "5J23UMFZft9W",
        "outputId": "eedae0af-c5c9-4701-ff3a-4970be4d319f"
      },
      "execution_count": null,
      "outputs": [
        {
          "output_type": "stream",
          "name": "stdout",
          "text": [
            "inserte numero 99\n",
            "inserte numero 1\n",
            "menor a 150\n",
            "None\n"
          ]
        }
      ]
    },
    {
      "cell_type": "markdown",
      "source": [
        "Problema 04: Generar un programa que combine variables, tipos de datos y una condicional en Python (hacer una función que evalúe si el usuario es mayor de edad y si le gusta la programación, que envíe diferentes textos según la respuesta del usuario)\n",
        "\n"
      ],
      "metadata": {
        "id": "nZ3sZwus9bJK"
      }
    },
    {
      "cell_type": "code",
      "source": [
        "edad=int(input(\"inserte su edad \"))\n",
        "gusta_programar=input(\"¿Te gusta programar? (si o no) \")\n",
        "if (edad >= 18 and gusta_programar == \"si\"):\n",
        "  promedio = \"eres mayor de edad y te gusta programar\"\n",
        "  print(promedio)\n",
        "else:\n",
        "  promedio = \"no eres mayor de edad o no te gusta programar\"\n",
        "  print(promedio)"
      ],
      "metadata": {
        "colab": {
          "base_uri": "https://localhost:8080/"
        },
        "id": "WOIDp8q79803",
        "outputId": "330ad535-aa09-4a3d-efa5-a937710f7b58"
      },
      "execution_count": null,
      "outputs": [
        {
          "output_type": "stream",
          "name": "stdout",
          "text": [
            "inserte su edad 12\n",
            "¿Te gusta programar? (si o no) si\n",
            "no eres mayor de edad o no te gusta programar\n"
          ]
        }
      ]
    }
  ]
}